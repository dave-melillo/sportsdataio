{
 "cells": [
  {
   "cell_type": "markdown",
   "metadata": {},
   "source": [
    "### import modules"
   ]
  },
  {
   "cell_type": "code",
   "execution_count": 44,
   "metadata": {},
   "outputs": [],
   "source": [
    "# File system manangement\n",
    "import os\n",
    "\n",
    "# Suppress warnings \n",
    "import warnings\n",
    "warnings.filterwarnings('ignore')\n",
    "\n",
    "# Load libraries\n",
    "import pandas\n",
    "from pandas.io.json import json_normalize \n",
    "from pandas.plotting import scatter_matrix\n",
    "import matplotlib.pyplot as plt\n",
    "\n",
    "# sklearn \n",
    "from sklearn.preprocessing import Normalizer\n",
    "from sklearn import model_selection\n",
    "from sklearn.metrics import classification_report\n",
    "from sklearn.metrics import confusion_matrix\n",
    "from sklearn.metrics import accuracy_score\n",
    "from sklearn.linear_model import LogisticRegression\n",
    "from sklearn.tree import DecisionTreeClassifier\n",
    "from sklearn.neighbors import KNeighborsClassifier\n",
    "from sklearn.discriminant_analysis import LinearDiscriminantAnalysis\n",
    "from sklearn.naive_bayes import GaussianNB\n",
    "from sklearn.svm import SVC\n",
    "from sklearn.linear_model import LinearRegression\n",
    "from sklearn.datasets import make_regression\n",
    "from sklearn.preprocessing import LabelEncoder\n",
    "from sklearn.decomposition import PCA\n",
    "from sklearn.preprocessing import StandardScaler\n",
    "\n",
    "# numpy and pandas for data manipulation\n",
    "import numpy as np\n",
    "import pandas as pd \n",
    "\n",
    "#requests\n",
    "import requests\n",
    "\n",
    "# matplotlib and seaborn for plotting\n",
    "import matplotlib.pyplot as plt\n",
    "import seaborn as sns\n",
    "\n",
    "\n",
    "pd.set_option('display.max_columns', None)\n",
    "pd.set_option('display.max_rows', None)\n",
    "\n",
    "pd.options.display.max_columns = None\n",
    "pd.options.display.max_rows = None\n"
   ]
  },
  {
   "cell_type": "markdown",
   "metadata": {},
   "source": [
    "### access data"
   ]
  },
  {
   "cell_type": "code",
   "execution_count": 47,
   "metadata": {},
   "outputs": [],
   "source": [
    "# get data\n",
    "\n",
    "##create year variables\n",
    "year = str('2019REG')\n",
    "\n",
    "##create key variable\n",
    "key = str('insertyourkey')\n",
    "\n",
    "##create requests for all historical data\n",
    "\n",
    "res = requests.get(\"https://api.sportsdata.io/api/nfl/odds/json/TeamSeasonStats/\" + year + \"?key=\"+key+\"\").json()\n",
    "\n",
    "##normalizae the json responses \n",
    "df = json_normalize(res)\n",
    "\n",
    "##number of print choices to confirm \n",
    "#print(df.info())\n",
    "#display(df)"
   ]
  },
  {
   "cell_type": "markdown",
   "metadata": {},
   "source": [
    "### train model"
   ]
  },
  {
   "cell_type": "code",
   "execution_count": 46,
   "metadata": {},
   "outputs": [
    {
     "data": {
      "text/plain": [
       "LinearRegression(copy_X=True, fit_intercept=True, n_jobs=None, normalize=False)"
      ]
     },
     "execution_count": 46,
     "metadata": {},
     "output_type": "execute_result"
    }
   ],
   "source": [
    "#file input\n",
    "learning = df\n",
    "\n",
    "#features as identified in correlation excercise \n",
    "feature_cols = ['OpponentScore', 'TotalScore', 'ScoreQuarter1', 'ScoreQuarter2', 'ScoreQuarter3', 'ScoreQuarter4', 'ScoreOvertime', 'FirstDowns', 'FirstDownsByRushing', 'FirstDownsByPassing', 'FirstDownsByPenalty', 'OffensivePlays', 'OffensiveYards', 'OffensiveYardsPerPlay', 'Touchdowns', 'RushingAttempts', 'RushingYards', 'RushingYardsPerAttempt', 'RushingTouchdowns', 'PassingAttempts', 'PassingCompletions', 'PassingYards', 'PassingTouchdowns', 'PassingInterceptions', 'PassingYardsPerAttempt', 'PassingYardsPerCompletion', 'CompletionPercentage', 'PasserRating', 'ThirdDownAttempts', 'ThirdDownConversions', 'ThirdDownPercentage', 'FourthDownAttempts', 'FourthDownConversions', 'FourthDownPercentage', 'RedZoneAttempts', 'RedZoneConversions', 'GoalToGoAttempts', 'GoalToGoConversions', 'Penalties', 'PenaltyYards', 'Fumbles', 'FumblesLost', 'TimesSacked', 'TimesSackedYards', 'QuarterbackHits', 'TacklesForLoss', 'Punts', 'PuntYards', 'PuntAverage', 'Giveaways', 'Takeaways', 'TurnoverDifferential', 'OpponentScoreQuarter1', 'OpponentScoreQuarter2', 'OpponentScoreQuarter3', 'OpponentScoreQuarter4', 'OpponentScoreOvertime', 'OpponentFirstDowns', 'OpponentFirstDownsByRushing', 'OpponentFirstDownsByPassing', 'OpponentFirstDownsByPenalty', 'OpponentOffensivePlays', 'OpponentOffensiveYards', 'OpponentOffensiveYardsPerPlay', 'OpponentTouchdowns', 'OpponentRushingAttempts', 'OpponentRushingYards', 'OpponentRushingYardsPerAttempt', 'OpponentRushingTouchdowns', 'OpponentPassingAttempts', 'OpponentPassingCompletions', 'OpponentPassingYards', 'OpponentPassingTouchdowns', 'OpponentPassingInterceptions', 'OpponentPassingYardsPerAttempt', 'OpponentPassingYardsPerCompletion', 'OpponentCompletionPercentage', 'OpponentPasserRating', 'OpponentThirdDownAttempts', 'OpponentThirdDownConversions', 'OpponentThirdDownPercentage', 'OpponentFourthDownAttempts', 'OpponentFourthDownConversions', 'OpponentFourthDownPercentage', 'OpponentRedZoneAttempts', 'OpponentRedZoneConversions', 'OpponentGoalToGoAttempts', 'OpponentGoalToGoConversions', 'OpponentPenalties', 'OpponentPenaltyYards', 'OpponentFumbles', 'OpponentFumblesLost', 'OpponentTimesSacked', 'OpponentTimesSackedYards', 'OpponentQuarterbackHits', 'OpponentTacklesForLoss', 'OpponentPunts', 'OpponentPuntYards', 'OpponentPuntAverage', 'OpponentGiveaways', 'OpponentTakeaways', 'OpponentTurnoverDifferential', 'RedZonePercentage', 'GoalToGoPercentage', 'OpponentRedZonePercentage', 'OpponentGoalToGoPercentage', 'ExtraPointKickingAttempts', 'ExtraPointKickingConversions', 'ExtraPointsHadBlocked', 'ExtraPointPassingAttempts', 'ExtraPointPassingConversions', 'ExtraPointRushingAttempts', 'ExtraPointRushingConversions', 'FieldGoalAttempts', 'FieldGoalsMade', 'OpponentExtraPointKickingAttempts', 'OpponentExtraPointKickingConversions', 'OpponentExtraPointsHadBlocked', 'OpponentExtraPointPassingAttempts', 'OpponentExtraPointPassingConversions', 'OpponentExtraPointRushingAttempts', 'OpponentExtraPointRushingConversions', 'OpponentFieldGoalAttempts', 'OpponentFieldGoalsMade', 'SoloTackles', 'AssistedTackles', 'Sacks', 'SackYards', 'PassesDefended', 'FumblesForced', 'FumblesRecovered', 'OpponentSoloTackles', 'OpponentAssistedTackles', 'OpponentSacks', 'OpponentSackYards', 'OpponentPassesDefended', 'OpponentFumblesForced', 'OpponentFumblesRecovered']\n",
    "\n",
    "\n",
    "#feature harness\n",
    "X = learning.loc[:, feature_cols]\n",
    "\n",
    "#target harness\n",
    "Y = learning.Score\n",
    "\n",
    "#model fit\n",
    "model = LinearRegression()\n",
    "model.fit(X, Y)"
   ]
  },
  {
   "cell_type": "markdown",
   "metadata": {},
   "source": [
    "### predict"
   ]
  },
  {
   "cell_type": "code",
   "execution_count": 67,
   "metadata": {},
   "outputs": [
    {
     "name": "stdout",
     "output_type": "stream",
     "text": [
      "   Team  prediction\n",
      "21   NE  656.906232\n",
      "8   DAL  631.862832\n",
      "4   CAR  585.575921\n",
      "15   KC  556.992256\n",
      "22   NO  551.068467\n",
      "25  PHI  528.683683\n",
      "28   SF  514.061854\n",
      "13  IND  500.985225\n",
      "20  MIN  495.281488\n",
      "12  HOU  486.650773\n",
      "1   ATL  483.404603\n",
      "11   GB  469.573794\n",
      "2   BAL  466.170629\n",
      "5   CHI  460.398878\n",
      "14  JAX  453.352727\n",
      "17  LAR  450.620408\n",
      "10  DET  446.278946\n",
      "23  NYG  430.496083\n",
      "3   BUF  421.122980\n",
      "29   TB  382.154599\n",
      "27  SEA  375.872385\n",
      "0   ARI  367.116662\n",
      "31  WAS  354.687611\n",
      "16  LAC  352.832258\n",
      "6   CIN  343.132800\n",
      "18   LV  315.406021\n",
      "9   DEN  300.892410\n",
      "26  PIT  254.828096\n",
      "7   CLE  238.982792\n",
      "30  TEN  173.523564\n",
      "24  NYJ  118.065931\n",
      "19  MIA   76.947362\n"
     ]
    }
   ],
   "source": [
    "# get data\n",
    "\n",
    "##create time variables\n",
    "year = str('2019REG')\n",
    "\n",
    "week = str('3')\n",
    "\n",
    "##create key variable\n",
    "key = str('insertyourkey')\n",
    "\n",
    "##create requests for all historical data\n",
    "res_week = requests.get(\"https://api.sportsdata.io/api/nfl/odds/json/TeamGameStats/\" + year + \"/\" + week + \"?key=\"+key+\"\").json()\n",
    "\n",
    "##normalizae the json responses \n",
    "df_week = json_normalize(res_week)\n",
    "\n",
    "#transformations\n",
    "\n",
    "## filter to feature/target fields as defined in the model \n",
    "\n",
    "df_week1 = df_week[['Team','OpponentScore', 'TotalScore', 'ScoreQuarter1', 'ScoreQuarter2', 'ScoreQuarter3', 'ScoreQuarter4', 'ScoreOvertime', 'FirstDowns', 'FirstDownsByRushing', 'FirstDownsByPassing', 'FirstDownsByPenalty', 'OffensivePlays', 'OffensiveYards', 'OffensiveYardsPerPlay', 'Touchdowns', 'RushingAttempts', 'RushingYards', 'RushingYardsPerAttempt', 'RushingTouchdowns', 'PassingAttempts', 'PassingCompletions', 'PassingYards', 'PassingTouchdowns', 'PassingInterceptions', 'PassingYardsPerAttempt', 'PassingYardsPerCompletion', 'CompletionPercentage', 'PasserRating', 'ThirdDownAttempts', 'ThirdDownConversions', 'ThirdDownPercentage', 'FourthDownAttempts', 'FourthDownConversions', 'FourthDownPercentage', 'RedZoneAttempts', 'RedZoneConversions', 'GoalToGoAttempts', 'GoalToGoConversions', 'Penalties', 'PenaltyYards', 'Fumbles', 'FumblesLost', 'TimesSacked', 'TimesSackedYards', 'QuarterbackHits', 'TacklesForLoss', 'Punts', 'PuntYards', 'PuntAverage', 'Giveaways', 'Takeaways', 'TurnoverDifferential', 'OpponentScoreQuarter1', 'OpponentScoreQuarter2', 'OpponentScoreQuarter3', 'OpponentScoreQuarter4', 'OpponentScoreOvertime', 'OpponentFirstDowns', 'OpponentFirstDownsByRushing', 'OpponentFirstDownsByPassing', 'OpponentFirstDownsByPenalty', 'OpponentOffensivePlays', 'OpponentOffensiveYards', 'OpponentOffensiveYardsPerPlay', 'OpponentTouchdowns', 'OpponentRushingAttempts', 'OpponentRushingYards', 'OpponentRushingYardsPerAttempt', 'OpponentRushingTouchdowns', 'OpponentPassingAttempts', 'OpponentPassingCompletions', 'OpponentPassingYards', 'OpponentPassingTouchdowns', 'OpponentPassingInterceptions', 'OpponentPassingYardsPerAttempt', 'OpponentPassingYardsPerCompletion', 'OpponentCompletionPercentage', 'OpponentPasserRating', 'OpponentThirdDownAttempts', 'OpponentThirdDownConversions', 'OpponentThirdDownPercentage', 'OpponentFourthDownAttempts', 'OpponentFourthDownConversions', 'OpponentFourthDownPercentage', 'OpponentRedZoneAttempts', 'OpponentRedZoneConversions', 'OpponentGoalToGoAttempts', 'OpponentGoalToGoConversions', 'OpponentPenalties', 'OpponentPenaltyYards', 'OpponentFumbles', 'OpponentFumblesLost', 'OpponentTimesSacked', 'OpponentTimesSackedYards', 'OpponentQuarterbackHits', 'OpponentTacklesForLoss', 'OpponentPunts', 'OpponentPuntYards', 'OpponentPuntAverage', 'OpponentGiveaways', 'OpponentTakeaways', 'OpponentTurnoverDifferential', 'RedZonePercentage', 'GoalToGoPercentage', 'OpponentRedZonePercentage', 'OpponentGoalToGoPercentage', 'ExtraPointKickingAttempts', 'ExtraPointKickingConversions', 'ExtraPointsHadBlocked', 'ExtraPointPassingAttempts', 'ExtraPointPassingConversions', 'ExtraPointRushingAttempts', 'ExtraPointRushingConversions', 'FieldGoalAttempts', 'FieldGoalsMade', 'OpponentExtraPointKickingAttempts', 'OpponentExtraPointKickingConversions', 'OpponentExtraPointsHadBlocked', 'OpponentExtraPointPassingAttempts', 'OpponentExtraPointPassingConversions', 'OpponentExtraPointRushingAttempts', 'OpponentExtraPointRushingConversions', 'OpponentFieldGoalAttempts', 'OpponentFieldGoalsMade', 'SoloTackles', 'AssistedTackles', 'Sacks', 'SackYards', 'PassesDefended', 'FumblesForced', 'FumblesRecovered', 'OpponentSoloTackles', 'OpponentAssistedTackles', 'OpponentSacks', 'OpponentSackYards', 'OpponentPassesDefended', 'OpponentFumblesForced', 'OpponentFumblesRecovered']]\n",
    "\n",
    "## multiply all one week results by 16 as a rudimentary way to extrapolate performance across the whole season\n",
    "\n",
    "df_week2 = df_week1[['Team','OpponentScore', 'TotalScore', 'ScoreQuarter1', 'ScoreQuarter2', 'ScoreQuarter3', 'ScoreQuarter4', 'ScoreOvertime', 'FirstDowns', 'FirstDownsByRushing', 'FirstDownsByPassing', 'FirstDownsByPenalty', 'OffensivePlays', 'OffensiveYards', 'OffensiveYardsPerPlay', 'Touchdowns', 'RushingAttempts', 'RushingYards', 'RushingYardsPerAttempt', 'RushingTouchdowns', 'PassingAttempts', 'PassingCompletions', 'PassingYards', 'PassingTouchdowns', 'PassingInterceptions', 'PassingYardsPerAttempt', 'PassingYardsPerCompletion', 'CompletionPercentage', 'PasserRating', 'ThirdDownAttempts', 'ThirdDownConversions', 'ThirdDownPercentage', 'FourthDownAttempts', 'FourthDownConversions', 'FourthDownPercentage', 'RedZoneAttempts', 'RedZoneConversions', 'GoalToGoAttempts', 'GoalToGoConversions', 'Penalties', 'PenaltyYards', 'Fumbles', 'FumblesLost', 'TimesSacked', 'TimesSackedYards', 'QuarterbackHits', 'TacklesForLoss', 'Punts', 'PuntYards', 'PuntAverage', 'Giveaways', 'Takeaways', 'TurnoverDifferential', 'OpponentScoreQuarter1', 'OpponentScoreQuarter2', 'OpponentScoreQuarter3', 'OpponentScoreQuarter4', 'OpponentScoreOvertime', 'OpponentFirstDowns', 'OpponentFirstDownsByRushing', 'OpponentFirstDownsByPassing', 'OpponentFirstDownsByPenalty', 'OpponentOffensivePlays', 'OpponentOffensiveYards', 'OpponentOffensiveYardsPerPlay', 'OpponentTouchdowns', 'OpponentRushingAttempts', 'OpponentRushingYards', 'OpponentRushingYardsPerAttempt', 'OpponentRushingTouchdowns', 'OpponentPassingAttempts', 'OpponentPassingCompletions', 'OpponentPassingYards', 'OpponentPassingTouchdowns', 'OpponentPassingInterceptions', 'OpponentPassingYardsPerAttempt', 'OpponentPassingYardsPerCompletion', 'OpponentCompletionPercentage', 'OpponentPasserRating', 'OpponentThirdDownAttempts', 'OpponentThirdDownConversions', 'OpponentThirdDownPercentage', 'OpponentFourthDownAttempts', 'OpponentFourthDownConversions', 'OpponentFourthDownPercentage', 'OpponentRedZoneAttempts', 'OpponentRedZoneConversions', 'OpponentGoalToGoAttempts', 'OpponentGoalToGoConversions', 'OpponentPenalties', 'OpponentPenaltyYards', 'OpponentFumbles', 'OpponentFumblesLost', 'OpponentTimesSacked', 'OpponentTimesSackedYards', 'OpponentQuarterbackHits', 'OpponentTacklesForLoss', 'OpponentPunts', 'OpponentPuntYards', 'OpponentPuntAverage', 'OpponentGiveaways', 'OpponentTakeaways', 'OpponentTurnoverDifferential', 'RedZonePercentage', 'GoalToGoPercentage', 'OpponentRedZonePercentage', 'OpponentGoalToGoPercentage', 'ExtraPointKickingAttempts', 'ExtraPointKickingConversions', 'ExtraPointsHadBlocked', 'ExtraPointPassingAttempts', 'ExtraPointPassingConversions', 'ExtraPointRushingAttempts', 'ExtraPointRushingConversions', 'FieldGoalAttempts', 'FieldGoalsMade', 'OpponentExtraPointKickingAttempts', 'OpponentExtraPointKickingConversions', 'OpponentExtraPointsHadBlocked', 'OpponentExtraPointPassingAttempts', 'OpponentExtraPointPassingConversions', 'OpponentExtraPointRushingAttempts', 'OpponentExtraPointRushingConversions', 'OpponentFieldGoalAttempts', 'OpponentFieldGoalsMade', 'SoloTackles', 'AssistedTackles', 'Sacks', 'SackYards', 'PassesDefended', 'FumblesForced', 'FumblesRecovered', 'OpponentSoloTackles', 'OpponentAssistedTackles', 'OpponentSacks', 'OpponentSackYards', 'OpponentPassesDefended', 'OpponentFumblesForced', 'OpponentFumblesRecovered']].multiply(16, axis=\"index\")\n",
    "\n",
    "## merge multiplied frame with original frame\n",
    "\n",
    "df_week2['Team'] = df_week1['Team']\n",
    "\n",
    "## filter to columns that fit with the model\n",
    "\n",
    "df_week3 = df_week2[['OpponentScore', 'TotalScore', 'ScoreQuarter1', 'ScoreQuarter2', 'ScoreQuarter3', 'ScoreQuarter4', 'ScoreOvertime', 'FirstDowns', 'FirstDownsByRushing', 'FirstDownsByPassing', 'FirstDownsByPenalty', 'OffensivePlays', 'OffensiveYards', 'OffensiveYardsPerPlay', 'Touchdowns', 'RushingAttempts', 'RushingYards', 'RushingYardsPerAttempt', 'RushingTouchdowns', 'PassingAttempts', 'PassingCompletions', 'PassingYards', 'PassingTouchdowns', 'PassingInterceptions', 'PassingYardsPerAttempt', 'PassingYardsPerCompletion', 'CompletionPercentage', 'PasserRating', 'ThirdDownAttempts', 'ThirdDownConversions', 'ThirdDownPercentage', 'FourthDownAttempts', 'FourthDownConversions', 'FourthDownPercentage', 'RedZoneAttempts', 'RedZoneConversions', 'GoalToGoAttempts', 'GoalToGoConversions', 'Penalties', 'PenaltyYards', 'Fumbles', 'FumblesLost', 'TimesSacked', 'TimesSackedYards', 'QuarterbackHits', 'TacklesForLoss', 'Punts', 'PuntYards', 'PuntAverage', 'Giveaways', 'Takeaways', 'TurnoverDifferential', 'OpponentScoreQuarter1', 'OpponentScoreQuarter2', 'OpponentScoreQuarter3', 'OpponentScoreQuarter4', 'OpponentScoreOvertime', 'OpponentFirstDowns', 'OpponentFirstDownsByRushing', 'OpponentFirstDownsByPassing', 'OpponentFirstDownsByPenalty', 'OpponentOffensivePlays', 'OpponentOffensiveYards', 'OpponentOffensiveYardsPerPlay', 'OpponentTouchdowns', 'OpponentRushingAttempts', 'OpponentRushingYards', 'OpponentRushingYardsPerAttempt', 'OpponentRushingTouchdowns', 'OpponentPassingAttempts', 'OpponentPassingCompletions', 'OpponentPassingYards', 'OpponentPassingTouchdowns', 'OpponentPassingInterceptions', 'OpponentPassingYardsPerAttempt', 'OpponentPassingYardsPerCompletion', 'OpponentCompletionPercentage', 'OpponentPasserRating', 'OpponentThirdDownAttempts', 'OpponentThirdDownConversions', 'OpponentThirdDownPercentage', 'OpponentFourthDownAttempts', 'OpponentFourthDownConversions', 'OpponentFourthDownPercentage', 'OpponentRedZoneAttempts', 'OpponentRedZoneConversions', 'OpponentGoalToGoAttempts', 'OpponentGoalToGoConversions', 'OpponentPenalties', 'OpponentPenaltyYards', 'OpponentFumbles', 'OpponentFumblesLost', 'OpponentTimesSacked', 'OpponentTimesSackedYards', 'OpponentQuarterbackHits', 'OpponentTacklesForLoss', 'OpponentPunts', 'OpponentPuntYards', 'OpponentPuntAverage', 'OpponentGiveaways', 'OpponentTakeaways', 'OpponentTurnoverDifferential', 'RedZonePercentage', 'GoalToGoPercentage', 'OpponentRedZonePercentage', 'OpponentGoalToGoPercentage', 'ExtraPointKickingAttempts', 'ExtraPointKickingConversions', 'ExtraPointsHadBlocked', 'ExtraPointPassingAttempts', 'ExtraPointPassingConversions', 'ExtraPointRushingAttempts', 'ExtraPointRushingConversions', 'FieldGoalAttempts', 'FieldGoalsMade', 'OpponentExtraPointKickingAttempts', 'OpponentExtraPointKickingConversions', 'OpponentExtraPointsHadBlocked', 'OpponentExtraPointPassingAttempts', 'OpponentExtraPointPassingConversions', 'OpponentExtraPointRushingAttempts', 'OpponentExtraPointRushingConversions', 'OpponentFieldGoalAttempts', 'OpponentFieldGoalsMade', 'SoloTackles', 'AssistedTackles', 'Sacks', 'SackYards', 'PassesDefended', 'FumblesForced', 'FumblesRecovered', 'OpponentSoloTackles', 'OpponentAssistedTackles', 'OpponentSacks', 'OpponentSackYards', 'OpponentPassesDefended', 'OpponentFumblesForced', 'OpponentFumblesRecovered']]\n",
    "\n",
    "#predict\n",
    "\n",
    "## set up model harness for X\n",
    "Xnew = df_week3.values\n",
    "\n",
    "## set up model harness for Y\n",
    "ynew = model.predict(Xnew)\n",
    "\n",
    "## concatenate predictions to original data set\n",
    "\n",
    "df_week2['prediction'] = ynew\n",
    "\n",
    "## filter to Team, Original Score, and Predicit\n",
    "\n",
    "df_week4 = df_week2[['Team','prediction']]\n",
    "\n",
    "##output\n",
    "\n",
    "print(df_week4.sort_values(by='prediction', ascending=False))\n"
   ]
  }
 ],
 "metadata": {
  "kernelspec": {
   "display_name": "Python 3",
   "language": "python",
   "name": "python3"
  },
  "language_info": {
   "codemirror_mode": {
    "name": "ipython",
    "version": 3
   },
   "file_extension": ".py",
   "mimetype": "text/x-python",
   "name": "python",
   "nbconvert_exporter": "python",
   "pygments_lexer": "ipython3",
   "version": "3.7.4"
  }
 },
 "nbformat": 4,
 "nbformat_minor": 2
}
